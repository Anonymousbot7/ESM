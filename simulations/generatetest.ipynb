{
 "cells": [
  {
   "cell_type": "code",
   "execution_count": null,
   "metadata": {},
   "outputs": [],
   "source": [
    "import os\n",
    "\n",
    "import shutil\n",
    "\n",
    "import torch\n",
    "from collections import Counter\n",
    "import numpy as np\n",
    "import torch.nn as nn\n",
    "import torch.optim as optim\n",
    "from torch.utils.data import TensorDataset, DataLoader\n",
    "import os\n",
    "import pandas as pd\n",
    "\n",
    "from joblib import Parallel, delayed\n",
    "import argparse\n",
    "\n",
    "\n",
    "def truncated_normal(size, mean=0.0, std=1.0, low=-2.0, high=2.0):\n",
    "    \"\"\"Generate samples from truncated normal distribution via rejection sampling.\"\"\"\n",
    "    samples = torch.empty(size)\n",
    "    numel = samples.numel()\n",
    "    i = 0\n",
    "    while i < numel:\n",
    "        val = torch.normal(mean, std, size=(numel - i,))\n",
    "        keep = (val >= low) & (val <= high)\n",
    "        num_keep = keep.sum().item()\n",
    "        if num_keep > 0:\n",
    "            samples.view(-1)[i:i+num_keep] = val[keep][:num_keep]\n",
    "            i += num_keep\n",
    "    return samples\n",
    "\n",
    "p = 10\n",
    "torch.manual_seed(1997)\n",
    "\n",
    "X_maintest = truncated_normal(size=(80, 2))\n",
    "X_noisetest = truncated_normal(size=(80, p - 2),std=1)\n",
    "\n",
    "xtest = torch.cat([X_maintest, X_noisetest], dim=1)\n",
    "for i in range(1, 11):\n",
    "    folder = f\"resultspart{i}\"\n",
    "    os.makedirs(folder, exist_ok=True)\n",
    "    torch.save(xtest, os.path.join(folder, f\"xtest{p}.pt\"))\n"
   ]
  }
 ],
 "metadata": {
  "kernelspec": {
   "display_name": "Python 3",
   "language": "python",
   "name": "python3"
  },
  "language_info": {
   "codemirror_mode": {
    "name": "ipython",
    "version": 3
   },
   "file_extension": ".py",
   "mimetype": "text/x-python",
   "name": "python",
   "nbconvert_exporter": "python",
   "pygments_lexer": "ipython3",
   "version": "3.12.1"
  }
 },
 "nbformat": 4,
 "nbformat_minor": 2
}
